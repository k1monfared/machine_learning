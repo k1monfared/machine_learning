{
 "cells": [
  {
   "cell_type": "code",
   "execution_count": 1,
   "metadata": {},
   "outputs": [],
   "source": [
    "import numpy as np\n",
    "import matplotlib.pyplot as plt\n",
    "from pylab import subplot\n",
    "\n",
    "def linear_regression_cost_function(X, y, theta, lamb=0,derivative=False):\n",
    "    # Compute cost and gradient for regularized linear regression with multiple variables\n",
    "    #   computes the cost of using theta as the parameter for linear regression to fit the \n",
    "    #    data points in X and y. Returns the cost in J and the gradient in grad\n",
    "\n",
    "    # Initialize some useful values\n",
    "    m = len(y) # number of training examples\n",
    "\n",
    "    h = np.dot(X,theta)\n",
    "    if derivative == False:\n",
    "        # calculate the cost\n",
    "        J = np.dot((h.T-y), (h.T-y).T) / (2*m) + lamb/(2*m) * np.dot(theta[1:].transpose(), theta[1:])\n",
    "        return(J)\n",
    "    else:\n",
    "        # calculate the derivative \n",
    "        grad = np.dot((h.T-y),X) / m\n",
    "        grad[1:] += lamb/m * theta[1:]#.transpose()\n",
    "        grad = grad.T\n",
    "        return(grad)\n",
    "\n",
    "\n",
    "def gradientDescent(X, y, theta, alpha, num_iters, lamb=0):\n",
    "    # Performs gradient descent to learn theta\n",
    "    # updates theta by taking num_iters gradient steps with learning rate alpha\n",
    "\n",
    "    # Initialize some useful values\n",
    "    m = len(y) # number of training examples\n",
    "    J_history = [0 for i in range(num_iters)]\n",
    "\n",
    "    for iter in range(num_iters):\n",
    "\n",
    "        # Perform a single gradient step on the parameter vector theta. \n",
    "        delta = linear_regression_cost_function(X, y, theta, lamb, derivative=True)\n",
    "        theta = theta - alpha * delta\n",
    "\n",
    "        # Save the cost J in every iteration    \n",
    "        J_history[iter] = linear_regression_cost_function(X, y, theta)[0]\n",
    "\n",
    "    return(theta, J_history)\n",
    "\n",
    "def train_linear_regression(X, y, lamb, alpha, num_iters=200):\n",
    "    # Trains linear regression given a dataset (X, y) and a\n",
    "    # regularization parameter lamb\n",
    "    #   trains linear regression using the dataset (X, y) and regularization parameter \n",
    "    #   lamb. Returns the trained parameters theta.\n",
    "    \n",
    "    # add a column of ones to the left of X\n",
    "    ones = np.array([1 for i in range(len(X))])\n",
    "    oneX = np.column_stack((ones,X))\n",
    "    \n",
    "    # Initialize Theta\n",
    "    initial_theta = np.array([[0] for i in range(oneX.shape[1])])\n",
    "    \n",
    "    # Minimize using gradient descent\n",
    "    [theta,J_hist] = gradientDescent(oneX, y, initial_theta, alpha, num_iters)\n",
    "\n",
    "    return(theta,J_hist)"
   ]
  },
  {
   "cell_type": "code",
   "execution_count": 2,
   "metadata": {},
   "outputs": [],
   "source": [
    "m = 100 # number of points\n",
    "n = 2 # dimension\n",
    "\n",
    "# create some random points\n",
    "np.random.seed(1) # for reproducibility\n",
    "X = np.array( [[ np.random.random() for i in range(n) ] for i in range(m)] ) # create m randomo points in n dimensions\n",
    "M = np.array([[1,5],[0,1]]) # a linear transformation in 2 dimensions\n",
    "MX = np.dot(X,M) # multiply the matrix to transform the points\n",
    "\n",
    "X = MX[:,0]\n",
    "y = MX[:,1]\n",
    "lamb = 0\n",
    "alpha = .01\n",
    "num_iters = 10000\n",
    "\n",
    "[w,jh] = train_linear_regression(X, y, lamb, alpha, num_iters)"
   ]
  },
  {
   "cell_type": "code",
   "execution_count": 3,
   "metadata": {
    "scrolled": true
   },
   "outputs": [
    {
     "data": {
      "image/png": "[encoded data removed]",
      "text/plain": [
       "<Figure size 432x288 with 1 Axes>"
      ]
     },
     "metadata": {},
     "output_type": "display_data"
    },
    {
     "data": {
      "image/png": "[encoded data removed]",
      "text/plain": [
       "<Figure size 432x288 with 1 Axes>"
      ]
     },
     "metadata": {},
     "output_type": "display_data"
    }
   ],
   "source": [
    "# let's see how our points look like\n",
    "subplot(2,1,1)\n",
    "p = plt.plot(MX[:,0],MX[:,1], 'ro')\n",
    "plt.setp(p, markersize=4)\n",
    "plt.setp(p, markerfacecolor='white')\n",
    "xmin = min(MX[:,0])\n",
    "xmax = max(MX[:,0])\n",
    "ymin = min(MX[:,1])\n",
    "ymax = max(MX[:,1])\n",
    "plot_x = np.linspace(xmin, xmax, 10000)\n",
    "plot_y = w[0] + w[1] * plot_x\n",
    "plt.plot(plot_x, plot_y, label='y=' + str(w[1][0])[:4] + 'x +' + str(w[0][0])[:4])\n",
    "plt.legend()\n",
    "plt.grid(True)\n",
    "plt.title('Linear Regression')\n",
    "plt.axis([xmin, xmax, ymin, ymax])\n",
    "plt.xlabel('x coordinate')\n",
    "plt.ylabel('y coordinate')\n",
    "plt.show()\n",
    "\n",
    "\n",
    "subplot(2,1,2)\n",
    "x = np.array([i for i in range(len(jh))])\n",
    "y = np.array(jh)\n",
    "plt.plot(x,y,lw=3)\n",
    "plt.title('Cost vs. iteration')\n",
    "plt.xlabel('iteration')\n",
    "plt.ylabel('cost')\n",
    "plt.grid(True)\n",
    "plt.axis([0, num_iters, 0, max(jh)])\n",
    "plt.show()\n",
    "\n"
   ]
  },
  {
   "cell_type": "code",
   "execution_count": null,
   "metadata": {},
   "outputs": [],
   "source": []
  }
 ],
 "metadata": {
  "kernelspec": {
   "display_name": "Python 3",
   "language": "python",
   "name": "python3"
  },
  "language_info": {
   "codemirror_mode": {
    "name": "ipython",
    "version": 3
   },
   "file_extension": ".py",
   "mimetype": "text/x-python",
   "name": "python",
   "nbconvert_exporter": "python",
   "pygments_lexer": "ipython3",
   "version": "3.6.5"
  }
 },
 "nbformat": 4,
 "nbformat_minor": 2
}
